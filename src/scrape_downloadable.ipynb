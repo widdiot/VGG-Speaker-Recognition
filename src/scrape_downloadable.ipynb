{
 "cells": [
  {
   "cell_type": "code",
   "execution_count": 7,
   "id": "agricultural-nursery",
   "metadata": {},
   "outputs": [],
   "source": [
    "from selenium import webdriver\n",
    "from bs4 import BeautifulSoup"
   ]
  },
  {
   "cell_type": "code",
   "execution_count": 8,
   "id": "aging-mapping",
   "metadata": {},
   "outputs": [],
   "source": [
    "driver = webdriver.Chrome()"
   ]
  },
  {
   "cell_type": "code",
   "execution_count": 24,
   "id": "decimal-waterproof",
   "metadata": {},
   "outputs": [],
   "source": [
    "import os\n",
    "folder = \"/home/vishay/trell/\"\n",
    "langs = os.listdir(folder)\n",
    "for lang in langs:\n",
    "    with open(folder+\"/\"+lang+\"/\"+\"watchable_urls\") as f:\n",
    "        urls = f.read().splitlines()\n",
    "    with open(\"trell/\"+lang+\"/downloadable_urls\",\"w\") as f:\n",
    "        for url in urls:\n",
    "            driver.get(url)\n",
    "            content = driver.page_source.encode('utf-8').strip()\n",
    "            soup = BeautifulSoup(content, 'lxml')\n",
    "            downloadable = soup.findAll('video', id=\"trail-video-player\")\n",
    "            if not downloadable:\n",
    "                continue\n",
    "            f.write(downloadable[0].get(\"src\")+\"\\n\")"
   ]
  },
  {
   "cell_type": "code",
   "execution_count": 10,
   "id": "treated-hepatitis",
   "metadata": {},
   "outputs": [],
   "source": [
    "driver.get(urls[0])"
   ]
  },
  {
   "cell_type": "code",
   "execution_count": 11,
   "id": "written-secretary",
   "metadata": {},
   "outputs": [],
   "source": [
    "content = driver.page_source.encode('utf-8').strip()\n",
    "soup = BeautifulSoup(content, 'lxml')\n",
    "downloadable = soup.findAll('video', id=\"trail-video-player\")"
   ]
  },
  {
   "cell_type": "code",
   "execution_count": 12,
   "id": "constant-benchmark",
   "metadata": {},
   "outputs": [
    {
     "data": {
      "text/plain": [
       "[<video autoplay=\"\" class=\"videoColumn__video videoColumn__video--show\" id=\"trail-video-player\" playsinline=\"\" src=\"https://cdn.trell.co/videos/transformed/h_640,w_640/videos/orig/jcs723GoPM6Al5KymoJIkQYotY40E33L.mp4\"></video>]"
      ]
     },
     "execution_count": 12,
     "metadata": {},
     "output_type": "execute_result"
    }
   ],
   "source": [
    "with open(\"trell/\"+lang+\"/downloadable_urls\",\"w\") as f:\n",
    "    for l in watchable:\n",
    "        f.write(\"https://trell.co\"+l.get(\"href\")+\"\\n\")"
   ]
  },
  {
   "cell_type": "code",
   "execution_count": 17,
   "id": "intermediate-capture",
   "metadata": {},
   "outputs": [
    {
     "data": {
      "text/plain": [
       "'https://cdn.trell.co/videos/transformed/h_640,w_640/videos/orig/jcs723GoPM6Al5KymoJIkQYotY40E33L.mp4'"
      ]
     },
     "execution_count": 17,
     "metadata": {},
     "output_type": "execute_result"
    }
   ],
   "source": [
    "downloadable[0].get(\"src\")"
   ]
  },
  {
   "cell_type": "code",
   "execution_count": 21,
   "id": "artistic-canon",
   "metadata": {},
   "outputs": [
    {
     "data": {
      "text/plain": [
       "[]"
      ]
     },
     "execution_count": 21,
     "metadata": {},
     "output_type": "execute_result"
    }
   ],
   "source": [
    "downloadable"
   ]
  },
  {
   "cell_type": "code",
   "execution_count": 23,
   "id": "three-muscle",
   "metadata": {},
   "outputs": [
    {
     "name": "stdout",
     "output_type": "stream",
     "text": [
      "1\n"
     ]
    }
   ],
   "source": [
    "if not downloadable:\n",
    "    print(1)"
   ]
  },
  {
   "cell_type": "code",
   "execution_count": null,
   "id": "serial-omega",
   "metadata": {},
   "outputs": [],
   "source": []
  }
 ],
 "metadata": {
  "kernelspec": {
   "display_name": "Python [conda env:scrape] *",
   "language": "python",
   "name": "conda-env-scrape-py"
  },
  "language_info": {
   "codemirror_mode": {
    "name": "ipython",
    "version": 3
   },
   "file_extension": ".py",
   "mimetype": "text/x-python",
   "name": "python",
   "nbconvert_exporter": "python",
   "pygments_lexer": "ipython3",
   "version": "3.6.12"
  }
 },
 "nbformat": 4,
 "nbformat_minor": 5
}
